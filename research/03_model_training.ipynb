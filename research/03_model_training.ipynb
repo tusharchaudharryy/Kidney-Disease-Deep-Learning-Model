{
 "cells": [
  {
   "cell_type": "code",
   "execution_count": null,
   "id": "dfa9a54f",
   "metadata": {},
   "outputs": [],
   "source": []
  }
 ],
 "metadata": {
  "kernelspec": {
   "display_name": ".venv",
   "language": "python",
   "name": "python3"
  },
  "language_info": {
   "name": "python",
   "version": "3.10.10"
  }
 },
 "nbformat": 4,
 "nbformat_minor": 5
}
